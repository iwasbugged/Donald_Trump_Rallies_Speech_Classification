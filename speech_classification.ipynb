{
 "metadata": {
  "language_info": {
   "codemirror_mode": {
    "name": "ipython",
    "version": 3
   },
   "file_extension": ".py",
   "mimetype": "text/x-python",
   "name": "python",
   "nbconvert_exporter": "python",
   "pygments_lexer": "ipython3",
   "version": "3.8.5-final"
  },
  "orig_nbformat": 2,
  "kernelspec": {
   "name": "python3",
   "display_name": "Python 3"
  }
 },
 "nbformat": 4,
 "nbformat_minor": 2,
 "cells": [
  {
   "cell_type": "code",
   "execution_count": 1,
   "metadata": {},
   "outputs": [],
   "source": [
    "import os\n",
    "import pandas as pd \n",
    "import numpy as np \n",
    "import matplotlib.pyplot as plt \n",
    "import warnings\n",
    "warnings.filterwarnings('ignore')"
   ]
  },
  {
   "cell_type": "code",
   "execution_count": 2,
   "metadata": {},
   "outputs": [],
   "source": [
    "dir = os.getcwd()\n",
    "path = os.path.join(dir , 'Dataset')"
   ]
  },
  {
   "cell_type": "code",
   "execution_count": 8,
   "metadata": {},
   "outputs": [],
   "source": [
    "data = []\n",
    "for file in os.listdir(path):\n",
    "    file_path = os.path.join(path ,file)\n",
    "    text = open(file_path , encoding = 'utf-8' ).read()\n",
    "    data.append([text])"
   ]
  },
  {
   "cell_type": "code",
   "execution_count": 12,
   "metadata": {},
   "outputs": [
    {
     "output_type": "execute_result",
     "data": {
      "text/plain": [
       "35"
      ]
     },
     "metadata": {},
     "execution_count": 12
    }
   ],
   "source": [
    "len(data)"
   ]
  },
  {
   "cell_type": "code",
   "execution_count": 35,
   "metadata": {},
   "outputs": [
    {
     "output_type": "error",
     "ename": "AttributeError",
     "evalue": "'list' object has no attribute 'replace'",
     "traceback": [
      "\u001b[1;31m---------------------------------------------------------------------------\u001b[0m",
      "\u001b[1;31mAttributeError\u001b[0m                            Traceback (most recent call last)",
      "\u001b[1;32m<ipython-input-35-8bb037f6a85a>\u001b[0m in \u001b[0;36m<module>\u001b[1;34m\u001b[0m\n\u001b[0;32m      1\u001b[0m \u001b[1;32mfor\u001b[0m \u001b[0mtext\u001b[0m \u001b[1;32min\u001b[0m \u001b[0mrange\u001b[0m\u001b[1;33m(\u001b[0m\u001b[0mlen\u001b[0m\u001b[1;33m(\u001b[0m\u001b[0mdata\u001b[0m\u001b[1;33m)\u001b[0m\u001b[1;33m)\u001b[0m\u001b[1;33m:\u001b[0m\u001b[1;33m\u001b[0m\u001b[1;33m\u001b[0m\u001b[0m\n\u001b[1;32m----> 2\u001b[1;33m     \u001b[0mdata\u001b[0m\u001b[1;33m[\u001b[0m\u001b[0mtext\u001b[0m\u001b[1;33m]\u001b[0m \u001b[1;33m=\u001b[0m \u001b[0mdata\u001b[0m\u001b[1;33m[\u001b[0m\u001b[0mtext\u001b[0m\u001b[1;33m]\u001b[0m\u001b[1;33m.\u001b[0m\u001b[0mreplace\u001b[0m\u001b[1;33m(\u001b[0m\u001b[1;34m'\\''\u001b[0m \u001b[1;33m,\u001b[0m \u001b[1;34m'\\''\u001b[0m\u001b[1;33m)\u001b[0m\u001b[1;33m\u001b[0m\u001b[1;33m\u001b[0m\u001b[0m\n\u001b[0m",
      "\u001b[1;31mAttributeError\u001b[0m: 'list' object has no attribute 'replace'"
     ]
    }
   ],
   "source": [
    "for text in range(len(data)):\n",
    "    data[text] = data[text].replace('\\'' , '\\'')"
   ]
  },
  {
   "cell_type": "code",
   "execution_count": null,
   "metadata": {},
   "outputs": [],
   "source": []
  },
  {
   "cell_type": "code",
   "execution_count": null,
   "metadata": {},
   "outputs": [],
   "source": []
  },
  {
   "cell_type": "code",
   "execution_count": null,
   "metadata": {},
   "outputs": [],
   "source": []
  },
  {
   "cell_type": "code",
   "execution_count": null,
   "metadata": {},
   "outputs": [],
   "source": []
  },
  {
   "cell_type": "code",
   "execution_count": null,
   "metadata": {},
   "outputs": [],
   "source": []
  },
  {
   "cell_type": "code",
   "execution_count": null,
   "metadata": {},
   "outputs": [],
   "source": []
  },
  {
   "cell_type": "code",
   "execution_count": 24,
   "metadata": {},
   "outputs": [],
   "source": [
    "df = pd.DataFrame(data , columns = (['Speech']))"
   ]
  },
  {
   "cell_type": "code",
   "execution_count": 26,
   "metadata": {},
   "outputs": [
    {
     "output_type": "execute_result",
     "data": {
      "text/plain": [
       "                                              Speech\n",
       "0  Thank you. Thank you. Thank you to Vice Presid...\n",
       "1  There's a lot of people. That's great. Thank y...\n",
       "2  Thank you. Thank you. Thank you. All I can say...\n",
       "3  I want to thank you very much. North Carolina,...\n",
       "4  Thank you all. Thank you very much. Thank you ..."
      ],
      "text/html": "<div>\n<style scoped>\n    .dataframe tbody tr th:only-of-type {\n        vertical-align: middle;\n    }\n\n    .dataframe tbody tr th {\n        vertical-align: top;\n    }\n\n    .dataframe thead th {\n        text-align: right;\n    }\n</style>\n<table border=\"1\" class=\"dataframe\">\n  <thead>\n    <tr style=\"text-align: right;\">\n      <th></th>\n      <th>Speech</th>\n    </tr>\n  </thead>\n  <tbody>\n    <tr>\n      <th>0</th>\n      <td>Thank you. Thank you. Thank you to Vice Presid...</td>\n    </tr>\n    <tr>\n      <th>1</th>\n      <td>There's a lot of people. That's great. Thank y...</td>\n    </tr>\n    <tr>\n      <th>2</th>\n      <td>Thank you. Thank you. Thank you. All I can say...</td>\n    </tr>\n    <tr>\n      <th>3</th>\n      <td>I want to thank you very much. North Carolina,...</td>\n    </tr>\n    <tr>\n      <th>4</th>\n      <td>Thank you all. Thank you very much. Thank you ...</td>\n    </tr>\n  </tbody>\n</table>\n</div>"
     },
     "metadata": {},
     "execution_count": 26
    }
   ],
   "source": [
    "df.head(5)"
   ]
  },
  {
   "cell_type": "code",
   "execution_count": 29,
   "metadata": {},
   "outputs": [
    {
     "output_type": "execute_result",
     "data": {
      "text/plain": [
       "hat sucker is open. We\\'re not closing it. Well, think of this though. If Biden gets in, it\\'s closed. He said he\\'s going to close it. How about this guy? No fracking. You\\'re not going to frack. Onstage with all these crazy people and they don\\'t want any energy. They think everything\\'s going to run by wind, which costs you a fortune, about 20 times more than what we have and doesn\\'t work. But think of it, all of these people… And they say, \"What about fracking? Fracking is the modern technology. And so they all said, \"No, no, we\\'re all against… everyone\\'s against fracking. What about you?\" Yes, I\\'m against it too. Now he\\'s against it for months. He gets it, now he\\'s in favor of it. But he\\'s sort of grandfathering it. You know, it\\'s a very weak… Well, I like to grandfather fracking. If I\\'m a fracker, I don\\'t want to be grandfather. I want to have it or not have it, right? He wants to grandfather fracking. Always go with their first statement, okay? So I was in Texas two weeks ago, we had crowds. Mike, we had crowds that went from the airplane to the well, to the drilling well, where we went to see a well. And we saved the industry because I got Russia and Saudi Arabia to cut back 10 million barrels. It actually was probably 18. Ended up being, I think, 18.5 million barrels. And it saved the industry. And yet you\\'re still paying very low gasoline prices at the pump, but we saved 10 million jobs. But I\\'m in Texas, and let me tell you, Texas appreciated it because that industry was in deep trouble because all of a sudden with the pandemic, there was no demand. There was nobody driving, there was no demand. Nobody ever saw anything like it. So I\\'m in Texas and I said to the crowd, it was a great crowd, and we must have had a hundred thousand people on the road, on the highways and roadways waving. And they had the most beautiful Trump flags. I wanted to stop, \"Where did you buy that flag?\" The most beautiful flags of me and our great vice president. Is Mike Pence doing a good job by the way? He did such a great… he worked 29 hours a day. I mean, this guy works day and night. He worked not the 24. He worked 24 plus least five, okay. This man is a worker and he\\'s a wonderful human being. And when they try it, a guy like Biden that can\\'t carry his jockstrap. When Biden goes, \"Oh, they should have closed one week earlier\", and here\\'s the guy that said I made a mistake when I banned China that nothing\\'s going to happen. It\\'s so phony. This politics is a very phony business. I haven\\'t been doing it long. I told one of the senators that came in, he came into my office there, \" I\\'ve been doing this for 30 years. I\\'ve won many elections, I\\'ve only lost twice in my life. I\\'ve been a Senator for a long time. I know what I\\'m doing, sir\". I said, \"Yeah, and I\\'ve done it for four years. And I\\'ve only won one election, but it\\'s for the president of the United States.\" I remember a certain man on television that didn\\'t like me too much. He said, \"They put together the greatest field ever assembled, the Republicans, remember? 17 plus me. They put together the greatest field of talent ever assembled. I hear Trump wants to come in. He\\'s not going to do it number one. Number two, if he does, he\\'s just doing it for fun and he\\'ll be out by September and then he\\'ll go about leading his life, but he\\'s not going to do it. But we don\\'t really need him because this is the greatest single assemblage of talent ever assembled for one party.\" The greatest talent he\\'s ever seen. And then I did it and just week after week, one out, two out, three out, four out. And then we\\'ve done changes. Oh, he said, \"He can\\'t do it because he doesn\\'t have any experience.\" But I actually do on the other side. I contributed to politics. I always found it very interesting. So in a certain way, I had a lot of experience probably. Maybe I had too much experience. That\\'s why I can tell you about AOC. Check out the $2 million please, check it out, check it out. Check out Omar, check out Omar, get to that great writer, he should get… Oh, so the New York Times won all these Pulitzer prizes, right? I was going to tell you before. All these Pulitzer prizes, these people, and they all got it wrong, right? They got for Russia, Russia, Russia. We give the Pulitzer prize. I won\\'t use names. I won\\'t use names, but we give the Pulitzer prize to the New York Times. They got it wrong. We give the Pulitzer prize to the Washington Post and all of these real sleazebags. I have to be honest with you. Very dishonest people, very dishonest. I call it the Amazon Washington Post. He uses that as his lobbyist because he owns the Washington Post. He gets crap that other people wouldn\\'t get, okay. That means it\\'s a lobby. It\\'s a lobbyist deal. But they got the prize, right? They got the Pulitzer prize. All the guys that got it right, that really got it right, they all got it wrong, totally wrong. And they should return the Pulitzer prize. And Pulitzer association, the committee should ask for those prizes back. They got it all wrong. They were a hundred percent wrong. There was no collusion. They couldn\\'t believe. Remember the day when it was announced after three years, there is no collusion. I could have told them that a day one, they could have saved 48 million dollars. They got the Pulitzer. And then you take guys so many, so many. Solomon, Sara Carter, Bongino. How about Dan Bongino? So many, so talented guys. How about that great gentlemen who wrote The Witch Hunt? Remember that? That was the first, right? You know what I\\'m talking about. He\\'s fantastic. All great. These people should have won the Pulitzer prize. Now I would say Sean Hannity and Lou Dobbs and Laura and Tucker. In all fairness, Tucker was very good. Tucker was great, but these are all people that got it right. Now they don\\'t do I guess the Pulitzer prize for that stuff, but they probably should. But these guys all got it right. And all they did was get a lot of money because they\\'re very successful, and that\\'s okay I guess. But they should give the Pulitzer prize to the people that got it right and they should withdraw from all of those writers, many of whom are back there right now, all of those writers, they should do that. And a candidate for Congress, Michelle Fischbach, who\\'s supposed to be fantastic. And Michelle has my complete and total endorsement. But Jason, you\\'re in good shape, wow. You\\'re in better shape than these Congressman Jase. By the way, Jason is fantastic and he\\'s doing a fantastic… Where\\'s Michelle? Is she there? Be careful. It\\'s not worth the broken legs. Look at her. Oh, she\\'s a warrior, I can tell. Come on up. But thanks, Michelle. And they have my complete endorsement. They\\'re great people. They love your state. They love our country. So just in conclusion, I want to say that over the next four years, we will make America into the manufacturing superpower of the world. And we will end our reliance on China once and for all. We will make our medical supplies right here in the United States. And you probably heard me today. It used to be Puerto Rico did tremendous dollars in medical supplies. And then what happened? They made a lot, they did a good job, and Obama Biden destroyed it. They took away the incentive, all of the taxes. And they took away the incentive and Puerto Rico went down a long way. We\\'ll get some of that back to Puerto Rico and we\\'ll get it back for us. Take it away from China. You heard that, yes? They took it away. And then people automatically vote. It\\'s like a habit. Will I vote for the Democrat? The Democrat was so bad to you. And how bad were the Democrats to Israel? We did Jerusalem, right? We broke up the Iran deal, right? And then they vote for a Democrat. It\\'s out of habit, but I think the habits, we\\'re breaking those habits very quickly. But we\\'ve helped Puerto Rico and we\\'ve really helped… If you look at what we\\'ve done for Israel, it\\'s been incredible. They say nobody\\'s done more. And it\\'s my honor. But we\\'ll hire more police, increase penalties for assaults on law enforcement, and we will ban deadly sanctuary cities, which are a disaster. We\\'ll appoint tough on crime prosecutors. We will nominate judges and justices who interpret the constitution as written. We will ensure equal justice for citizens of every race, color, religion, and creed. We will defend the dignity of work and the sanctity of life. And that\\'s why the Supreme court is so important. The next president will get one, two, three, or four Supreme court justices. I had two. Many presidents have had none. They\\'ve had none because they\\'re there for a long time. They tend to be appointed young. They\\'re there for a long time. But the next one we\\'ll have anywhere from one to four. Think of that. That will totally change when you talk about life, when you talk about second amendment, when you talk about things that are so important to you. You\\'re going to be stuck for 40 years, 35 years, a long time. So this is going to be the most important election, in my opinion, in the history of our country. You got to get it right. Because if you don\\'t get it right, we will not have a country anymore. You\\'re not going to have a country. Not as we know it. You won\\'t have a country anymore. We will uphold religious liberty, free speech, and the right to keep and bear arms. We will strike down terrorists who threaten our citizens and we will keep America out of these ridiculous, horrible, endless foreign wars. Countries you\\'ve never heard of. Coming home. We will maintain America\\'s unrivaled military mind, and we will ensure peace through strength. This is what we have now. Peace through strength. Remember what I told you about those weapons, we don\\'t want to use ever, we don\\'t want to use those weapons. We will end surprise medical billing, require price transparency, January 1st. He doesn\\'t even have to do anything now. I\\'ll be so angry if he… They\\'ll say, \"What a job he\\'s done on transparency, can you believe it?\" And he won\\'t even know what transparency is. And it\\'s complex. And further reduce health insurance premiums and the cost of prescription drugs. We\\'ve done that already. We will strongly protect Medicare and social security, and we will always protect patients with preexisting conditions. America will land the first woman on the moon and the United States will be the first nation to land an astronaut on Mars. And we brought NASA back. NASA, when I got in three and a half years ago, grass was growing through the cracks of the runway. It was over, it was closed. It was nothing. Now it\\'s the number one space center in the entire world by a factor of five. We will stop the radical indoctrination of our students and restore patriotic education to our schools. We will. We will teach our children to love our country, honor our history, and always respect our great American flag. And we will live by the timeless words of our national motto, in God we trust. You know that the Democrat national convention and the pledge of allegiance at a caucus, two of them, not one. I heard the first one, I said, \"Oh, they must\\'ve made a mistake.\" They left under God out of the pledge of allegiance. Yeah, yeah, yeah. Now they then said, \"Oh, well we didn\\'t mean that.\" They meant it. That\\'s what they\\'re going to do. They\\'re going to take God out of it. Just like I was saying before, Texas, they don\\'t want God, they don\\'t want oil, they don\\'t want guns. I don\\'t think they\\'re going to do too well in Texas. Do you agree with that? I don\\'t think they\\'re going to do too well in Minnesota either. No, but could you imagine you\\'re campaigning, and it doesn\\'t play too well here, but could you imagine you\\'re in Texas and you have a guy say, \"No oil, no God, no guns. Oh, I think I\\'m going to vote for Joe Biden, everybody.\" And then they say, \"Texas is in play, it\\'s a very close…\" I have a friend in Texas. He said, \"I think you\\'re winning by 15 points.\" These people are crazy. Texas is in play. They don\\'t want to let you have oil. Think of it. It\\'s unbelievable. Texas is in play. That\\'s the fake news back there. They said it last time too. Remember? Texas, when they say in play, that means it\\'s too close to call. It\\'s in play. Too close. We\\'ve heard that for a long time, in play, right? Too close to call. And they said it four years ago, \"Texas is in play. This could be a terrible defeat, losing Texas. Big state, great state. This would be a tremendous defeat.\" And they said it about Ohio too. I think we won by like nine points. Right? They said Ohio is in play. Utah\\'s in play. We won by a lot. Remember we beat a guy named McMuffin. Remember the guy? He was going to take the state of Utah. And then he was going to be able to negotiate. But that didn\\'t work out. He came in third. Even Hillary beat him. But they said Texas is in play. And I\\'d go around telling my people, \"Damn it, Texas is in play, how the hell? Every time I go there, I have 35,000 people at the stadium, how could it possibly be in play?\" They said it\\'s in play. My people would say, \"I don\\'t think so.\" And we had a big Texas rancher. He was on one of the shows. He was wearing a big, beautiful hat. I wish I could wear those hots. It wouldn\\'t work for me too well. I don\\'t think it works for me, right? But it worked for him. And he said, \"I don\\'t know too much about a lot, but I know one thing. Texas is not in play. And this guy is going to win Texas by a hell of a lot of votes.\" And that\\'s what happened that night, the night of the election. The night of the election, they called the results. I\\'ve been listening for six months, \"Texas is so close, we can\\'t even imagine it it\\'s so close. This is big.\" And they only call the election immediately if you win in a landslide, it\\'s got to be tremendous. And they said, \"Texas has closed its doors. Ladies and gentlemen, Donald Trump has won the state of Texas.\" They didn\\'t even say the polls were closed. They forgot to say the polls were closed. I wanted to say. I said, \"How come I won?\" I called my people, \"How could I have won? It was so close they called it before they even said the doors closed.\" And I heard from the governor of Texas, great guy, Greg Abbott. I said, \"How are we doing compared to four years ago?\" We did great four years ago, big, big win. He said, \"Sir, you\\'re doing much better.\" But these guys keep saying it\\'s in play. It\\'s the same way that I\\'m down nine points in Minnesota. If I lose Minnesota, if I lose Minnesota, Jason, I\\'m going to blame Jason if I lose. Boy, we almost had it last time. But we did the right thing. We went to Michigan, we won Michigan, first time in many, many years, that Michigan was won. It\\'s a great state. For years you had a president who apologized for America. And now you have a president who is standing up for America and standing up for Minnesota. So get your friends, get your family, get your neighbors, get your coworkers, and get out and vote. And you know it\\'s starting today in Minnesota. That\\'s why I\\'m here. It started today. Go out of here. You know what? If they\\'re closed, what the hell time is it now? If they\\'re closed, just stand in line like you do. People were here two days ago trying to get in here. It\\'s crazy. So do the same thing at the voting booth, please. From St. Paul to St. Cloud, from Rochester to Duluth, and from Minneapolis, thank God we still have Minneapolis, to right here, right here with all of you great people, this state was pioneered by men and women who braved the wilderness and the winters to build a better life for themselves and for their families. They were tough and they were strong. You have good genes. You know that, right? You have good genes. A lot of it\\'s about the genes, isn\\'t it? Don\\'t you believe? The resource theory you think was so different? You have good genes in Minnesota. They didn\\'t have a lot of money. They didn\\'t have a lot of luxury, but they had grit, they had faith, and they had each other. That\\'s what you have now. You have each other. They were miners and lumberjacks, fishermen and farmers, shipbuilders and shopkeepers. But they all had one thing in common. They loved their families, they loved their countries, and they loved their God. Proud citizens like you helped build this country. And together we are taking back our country. We are returning power to you, the American people. With your help, your devotion and your drive, we are going to keep on working, we\\'re going to keep on fighting, and we are going to keep on winning, winning, winning. And don\\'t forget, you went through years where you weren\\'t winning, right? Years and years, they closed down. Even with Obama, he closed that iron. I think he just wanted to get even with you, I don\\'t know. He wasn\\'t good. Not a good… We\\'ve knocked out about 84% of the things he did. Then you say, \"I wonder if he likes me?\" But you\\'re getting used to winning and you\\'re going to see winning like you\\'ve never seen before. You had your best year and you\\'re going to win so much. You\\'ve heard this, right? I haven\\'t said it in a long time because we\\'ve been doing a lot of winning, but you\\'re going to win so much. And you\\'re going to send Jason to the US Senate. And you\\'re going to keep winning and winning and winning. You\\'re going to win on trade, you\\'re going to win on the military. You\\'re going to win on everything you touch. Minnesota is going to keep on winning and you\\'re going to get tired of winning because Minnesota doesn\\'t want to win all the time. Your football team is going to win in the big 10 they say, right? No, we are going to keep on winning in Minnesota. And you\\'re going to get so tired you\\'re going to say, \"Jason, Jason, please, please Jason, go to the president. See him in the oval office. Stop him from winning. We\\'re winning too much in Minnesota. We can\\'t stand it. Jason, please, please Jason. Stop him from winning so much for Minnesota. We can\\'t take it. We\\'re not used to it because we went through years and years and years where it was tough\", right? The mayors know that. That\\'s why they all endorsed the president. And I\\'m going to look at Jason, I\\'m going to say, \"No, Jason, I\\'m sorry. The people of Minnesota want to win, you\\'re wrong, Jason. They want to win. We\\'re going to keep on going, Jason, we\\'re going to keep on winning. And they\\'re going to be happy as hell, Jason.\" Get Jason in, he\\'s a great guy. By the way, you have a Senator that he\\'s running against. I won\\'t even mention names. She does nothing, nothing. Nobody even knows who the hell she is. She goes to a meeting the other day, everyone\\'s trying to figure out who is she? This guy… he even looks the role. Central casting, right? If you can get the look for free, that\\'s good too. Right? But he\\'s going to be fantastic. Tremendous guy, really successful. And he loves your state and he loves our country. So Jason, please knock them out. Knock them out. But you\\'re going to win. We\\'re one movement. We\\'re one people, one family, and one glorious nation under God. And together with the incredible people of Minnesota, and you know what\\'s going to be operating at strength? Because I owe it to these incredible mayors that were so nice to me. That was such a nice thing. And I didn\\'t politick you at all. I never politicked you. I said how nice. And it\\'s happening with so many other things. We have other endorsements from police forces that I never asked and all of a sudden they\\'re coming from very hostile territory. So I just appreciate your being here. And I\\'m saying this for you and I\\'m saying it for all of you. Okay. Thank you. We will make America wealthy again. We will make America strong again. We will make America proud again. We will make America safe again. And we will make America great again. Thank you Minnesota, thank you.'"
      ]
     },
     "metadata": {},
     "execution_count": 29
    }
   ],
   "source": [
    "df.Speech[1]"
   ]
  },
  {
   "cell_type": "code",
   "execution_count": null,
   "metadata": {},
   "outputs": [],
   "source": []
  }
 ]
}